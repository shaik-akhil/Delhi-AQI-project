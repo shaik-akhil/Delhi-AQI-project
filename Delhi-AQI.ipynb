{
 "cells": [
  {
   "cell_type": "markdown",
   "metadata": {},
   "source": [
    "#  Analysis and Visualization of AQI in Delhi"
   ]
  },
  {
   "cell_type": "markdown",
   "metadata": {},
   "source": [
    "- Here we analyze the Air quality of three highly polluted stations in Delhi(Anand Vihar,Bawana,DTU), before and after Lock Down.\n",
    "https://economictimes.indiatimes.com/news/politics-and-nation/pollution-levels-spike-overnight-aqi-459/articleshow/71847305.cms#:~:text=All%20the%2037%20air%20quality,and%20Vivek%20Vihar%20(482)."
   ]
  },
  {
   "cell_type": "markdown",
   "metadata": {},
   "source": [
    "<img src=\"https://resize.indiatvnews.com/en/resize/newbucket/715_-/2020/03/delhi-map-1585491690.jpg\" alt=\"Alt text that describes the graphic\" title=\"Title text\" />"
   ]
  },
  {
   "cell_type": "markdown",
   "metadata": {},
   "source": [
    "import pandas as pd\n",
    "import matplotlib.pyplot as plt\n",
    "import numpy as np"
   ]
  },
  {
   "cell_type": "code",
   "execution_count": 48,
   "metadata": {},
   "outputs": [
    {
     "data": {
      "text/html": [
       "<div>\n",
       "<style scoped>\n",
       "    .dataframe tbody tr th:only-of-type {\n",
       "        vertical-align: middle;\n",
       "    }\n",
       "\n",
       "    .dataframe tbody tr th {\n",
       "        vertical-align: top;\n",
       "    }\n",
       "\n",
       "    .dataframe thead th {\n",
       "        text-align: right;\n",
       "    }\n",
       "</style>\n",
       "<table border=\"1\" class=\"dataframe\">\n",
       "  <thead>\n",
       "    <tr style=\"text-align: right;\">\n",
       "      <th></th>\n",
       "      <th>Date</th>\n",
       "      <th>City</th>\n",
       "      <th>State</th>\n",
       "      <th>Station Name</th>\n",
       "      <th>Current AQI value</th>\n",
       "    </tr>\n",
       "  </thead>\n",
       "  <tbody>\n",
       "    <tr>\n",
       "      <th>0</th>\n",
       "      <td>2020-03-16</td>\n",
       "      <td>Amaravati</td>\n",
       "      <td>Andhra Pradesh</td>\n",
       "      <td>Secretariat, Amaravati - APPCB</td>\n",
       "      <td>46.0</td>\n",
       "    </tr>\n",
       "    <tr>\n",
       "      <th>1</th>\n",
       "      <td>2020-03-16</td>\n",
       "      <td>Rajamahendravaram</td>\n",
       "      <td>Andhra Pradesh</td>\n",
       "      <td>Anand Kala Kshetram, Rajamahendravaram - APPCB</td>\n",
       "      <td>60.0</td>\n",
       "    </tr>\n",
       "    <tr>\n",
       "      <th>2</th>\n",
       "      <td>2020-03-16</td>\n",
       "      <td>Tirupati</td>\n",
       "      <td>Andhra Pradesh</td>\n",
       "      <td>Tirumala, Tirupati - APPCB</td>\n",
       "      <td>48.0</td>\n",
       "    </tr>\n",
       "    <tr>\n",
       "      <th>3</th>\n",
       "      <td>2020-03-16</td>\n",
       "      <td>Visakhapatnam</td>\n",
       "      <td>Andhra Pradesh</td>\n",
       "      <td>GVM Corporation, Visakhapatnam - APPCB</td>\n",
       "      <td>95.0</td>\n",
       "    </tr>\n",
       "    <tr>\n",
       "      <th>4</th>\n",
       "      <td>2020-03-16</td>\n",
       "      <td>Guwahati</td>\n",
       "      <td>Assam</td>\n",
       "      <td>Railway Colony, Guwahati - APCB</td>\n",
       "      <td>186.0</td>\n",
       "    </tr>\n",
       "  </tbody>\n",
       "</table>\n",
       "</div>"
      ],
      "text/plain": [
       "        Date               City           State  \\\n",
       "0 2020-03-16          Amaravati  Andhra Pradesh   \n",
       "1 2020-03-16  Rajamahendravaram  Andhra Pradesh   \n",
       "2 2020-03-16           Tirupati  Andhra Pradesh   \n",
       "3 2020-03-16      Visakhapatnam  Andhra Pradesh   \n",
       "4 2020-03-16           Guwahati           Assam   \n",
       "\n",
       "                                     Station Name  Current AQI value  \n",
       "0                  Secretariat, Amaravati - APPCB               46.0  \n",
       "1  Anand Kala Kshetram, Rajamahendravaram - APPCB               60.0  \n",
       "2                      Tirumala, Tirupati - APPCB               48.0  \n",
       "3          GVM Corporation, Visakhapatnam - APPCB               95.0  \n",
       "4                 Railway Colony, Guwahati - APCB              186.0  "
      ]
     },
     "execution_count": 48,
     "metadata": {},
     "output_type": "execute_result"
    }
   ],
   "source": [
    "df=pd.read_excel(r'D:\\AQI_Delhi.xlsx')\n",
    "df.head()"
   ]
  },
  {
   "cell_type": "code",
   "execution_count": 49,
   "metadata": {},
   "outputs": [
    {
     "data": {
      "text/html": [
       "<div>\n",
       "<style scoped>\n",
       "    .dataframe tbody tr th:only-of-type {\n",
       "        vertical-align: middle;\n",
       "    }\n",
       "\n",
       "    .dataframe tbody tr th {\n",
       "        vertical-align: top;\n",
       "    }\n",
       "\n",
       "    .dataframe thead th {\n",
       "        text-align: right;\n",
       "    }\n",
       "</style>\n",
       "<table border=\"1\" class=\"dataframe\">\n",
       "  <thead>\n",
       "    <tr style=\"text-align: right;\">\n",
       "      <th></th>\n",
       "      <th>Date</th>\n",
       "      <th>City</th>\n",
       "      <th>State</th>\n",
       "      <th>Station Name</th>\n",
       "      <th>Current AQI value</th>\n",
       "    </tr>\n",
       "  </thead>\n",
       "  <tbody>\n",
       "    <tr>\n",
       "      <th>15</th>\n",
       "      <td>2020-03-16</td>\n",
       "      <td>Delhi</td>\n",
       "      <td>Delhi</td>\n",
       "      <td>Alipur, Delhi - DPCC</td>\n",
       "      <td>97.0</td>\n",
       "    </tr>\n",
       "    <tr>\n",
       "      <th>16</th>\n",
       "      <td>2020-03-16</td>\n",
       "      <td>Delhi</td>\n",
       "      <td>Delhi</td>\n",
       "      <td>Anand Vihar, Delhi - DPCC</td>\n",
       "      <td>NaN</td>\n",
       "    </tr>\n",
       "    <tr>\n",
       "      <th>17</th>\n",
       "      <td>2020-03-16</td>\n",
       "      <td>Delhi</td>\n",
       "      <td>Delhi</td>\n",
       "      <td>Ashok Vihar, Delhi - DPCC</td>\n",
       "      <td>179.0</td>\n",
       "    </tr>\n",
       "    <tr>\n",
       "      <th>18</th>\n",
       "      <td>2020-03-16</td>\n",
       "      <td>Delhi</td>\n",
       "      <td>Delhi</td>\n",
       "      <td>Aya Nagar, Delhi - IMD</td>\n",
       "      <td>109.0</td>\n",
       "    </tr>\n",
       "    <tr>\n",
       "      <th>19</th>\n",
       "      <td>2020-03-16</td>\n",
       "      <td>Delhi</td>\n",
       "      <td>Delhi</td>\n",
       "      <td>Bawana, Delhi - DPCC</td>\n",
       "      <td>218.0</td>\n",
       "    </tr>\n",
       "  </tbody>\n",
       "</table>\n",
       "</div>"
      ],
      "text/plain": [
       "         Date   City  State               Station Name  Current AQI value\n",
       "15 2020-03-16  Delhi  Delhi       Alipur, Delhi - DPCC               97.0\n",
       "16 2020-03-16  Delhi  Delhi  Anand Vihar, Delhi - DPCC                NaN\n",
       "17 2020-03-16  Delhi  Delhi  Ashok Vihar, Delhi - DPCC              179.0\n",
       "18 2020-03-16  Delhi  Delhi     Aya Nagar, Delhi - IMD              109.0\n",
       "19 2020-03-16  Delhi  Delhi       Bawana, Delhi - DPCC              218.0"
      ]
     },
     "execution_count": 49,
     "metadata": {},
     "output_type": "execute_result"
    }
   ],
   "source": [
    "#Selecting rows of only state Delhi\n",
    "df2=df[df['State']=='Delhi']\n",
    "df2.head()"
   ]
  },
  {
   "cell_type": "code",
   "execution_count": 50,
   "metadata": {},
   "outputs": [
    {
     "data": {
      "text/html": [
       "<div>\n",
       "<style scoped>\n",
       "    .dataframe tbody tr th:only-of-type {\n",
       "        vertical-align: middle;\n",
       "    }\n",
       "\n",
       "    .dataframe tbody tr th {\n",
       "        vertical-align: top;\n",
       "    }\n",
       "\n",
       "    .dataframe thead th {\n",
       "        text-align: right;\n",
       "    }\n",
       "</style>\n",
       "<table border=\"1\" class=\"dataframe\">\n",
       "  <thead>\n",
       "    <tr style=\"text-align: right;\">\n",
       "      <th></th>\n",
       "      <th>Date</th>\n",
       "      <th>State</th>\n",
       "      <th>Station Name</th>\n",
       "      <th>Current AQI value</th>\n",
       "    </tr>\n",
       "  </thead>\n",
       "  <tbody>\n",
       "    <tr>\n",
       "      <th>15</th>\n",
       "      <td>2020-03-16</td>\n",
       "      <td>Delhi</td>\n",
       "      <td>Alipur, Delhi - DPCC</td>\n",
       "      <td>97.0</td>\n",
       "    </tr>\n",
       "    <tr>\n",
       "      <th>16</th>\n",
       "      <td>2020-03-16</td>\n",
       "      <td>Delhi</td>\n",
       "      <td>Anand Vihar, Delhi - DPCC</td>\n",
       "      <td>NaN</td>\n",
       "    </tr>\n",
       "    <tr>\n",
       "      <th>17</th>\n",
       "      <td>2020-03-16</td>\n",
       "      <td>Delhi</td>\n",
       "      <td>Ashok Vihar, Delhi - DPCC</td>\n",
       "      <td>179.0</td>\n",
       "    </tr>\n",
       "    <tr>\n",
       "      <th>18</th>\n",
       "      <td>2020-03-16</td>\n",
       "      <td>Delhi</td>\n",
       "      <td>Aya Nagar, Delhi - IMD</td>\n",
       "      <td>109.0</td>\n",
       "    </tr>\n",
       "    <tr>\n",
       "      <th>19</th>\n",
       "      <td>2020-03-16</td>\n",
       "      <td>Delhi</td>\n",
       "      <td>Bawana, Delhi - DPCC</td>\n",
       "      <td>218.0</td>\n",
       "    </tr>\n",
       "  </tbody>\n",
       "</table>\n",
       "</div>"
      ],
      "text/plain": [
       "         Date  State               Station Name  Current AQI value\n",
       "15 2020-03-16  Delhi       Alipur, Delhi - DPCC               97.0\n",
       "16 2020-03-16  Delhi  Anand Vihar, Delhi - DPCC                NaN\n",
       "17 2020-03-16  Delhi  Ashok Vihar, Delhi - DPCC              179.0\n",
       "18 2020-03-16  Delhi     Aya Nagar, Delhi - IMD              109.0\n",
       "19 2020-03-16  Delhi       Bawana, Delhi - DPCC              218.0"
      ]
     },
     "execution_count": 50,
     "metadata": {},
     "output_type": "execute_result"
    }
   ],
   "source": [
    "df3=df2.drop('City',axis='columns')\n",
    "df3.head()"
   ]
  },
  {
   "cell_type": "code",
   "execution_count": 51,
   "metadata": {},
   "outputs": [
    {
     "data": {
      "text/html": [
       "<div>\n",
       "<style scoped>\n",
       "    .dataframe tbody tr th:only-of-type {\n",
       "        vertical-align: middle;\n",
       "    }\n",
       "\n",
       "    .dataframe tbody tr th {\n",
       "        vertical-align: top;\n",
       "    }\n",
       "\n",
       "    .dataframe thead th {\n",
       "        text-align: right;\n",
       "    }\n",
       "</style>\n",
       "<table border=\"1\" class=\"dataframe\">\n",
       "  <thead>\n",
       "    <tr style=\"text-align: right;\">\n",
       "      <th></th>\n",
       "      <th>Date</th>\n",
       "      <th>State</th>\n",
       "      <th>Station Name</th>\n",
       "      <th>Current AQI value</th>\n",
       "    </tr>\n",
       "  </thead>\n",
       "  <tbody>\n",
       "    <tr>\n",
       "      <th>16</th>\n",
       "      <td>2020-03-16</td>\n",
       "      <td>Delhi</td>\n",
       "      <td>Anand Vihar, Delhi - DPCC</td>\n",
       "      <td>NaN</td>\n",
       "    </tr>\n",
       "    <tr>\n",
       "      <th>19</th>\n",
       "      <td>2020-03-16</td>\n",
       "      <td>Delhi</td>\n",
       "      <td>Bawana, Delhi - DPCC</td>\n",
       "      <td>218.0</td>\n",
       "    </tr>\n",
       "    <tr>\n",
       "      <th>21</th>\n",
       "      <td>2020-03-16</td>\n",
       "      <td>Delhi</td>\n",
       "      <td>DTU, Delhi - CPCB</td>\n",
       "      <td>174.0</td>\n",
       "    </tr>\n",
       "    <tr>\n",
       "      <th>235</th>\n",
       "      <td>2020-03-17</td>\n",
       "      <td>Delhi</td>\n",
       "      <td>Anand Vihar, Delhi - DPCC</td>\n",
       "      <td>210.0</td>\n",
       "    </tr>\n",
       "    <tr>\n",
       "      <th>238</th>\n",
       "      <td>2020-03-17</td>\n",
       "      <td>Delhi</td>\n",
       "      <td>Bawana, Delhi - DPCC</td>\n",
       "      <td>205.0</td>\n",
       "    </tr>\n",
       "  </tbody>\n",
       "</table>\n",
       "</div>"
      ],
      "text/plain": [
       "          Date  State               Station Name  Current AQI value\n",
       "16  2020-03-16  Delhi  Anand Vihar, Delhi - DPCC                NaN\n",
       "19  2020-03-16  Delhi       Bawana, Delhi - DPCC              218.0\n",
       "21  2020-03-16  Delhi          DTU, Delhi - CPCB              174.0\n",
       "235 2020-03-17  Delhi  Anand Vihar, Delhi - DPCC              210.0\n",
       "238 2020-03-17  Delhi       Bawana, Delhi - DPCC              205.0"
      ]
     },
     "execution_count": 51,
     "metadata": {},
     "output_type": "execute_result"
    }
   ],
   "source": [
    "#selecting only the three stations\n",
    "df4=df3[(df3['Station Name']=='Bawana, Delhi - DPCC') | (df3['Station Name']=='DTU, Delhi - CPCB') | (df3['Station Name']=='Anand Vihar, Delhi - DPCC')]\n",
    "df4.head()"
   ]
  },
  {
   "cell_type": "code",
   "execution_count": 52,
   "metadata": {},
   "outputs": [
    {
     "name": "stderr",
     "output_type": "stream",
     "text": [
      "C:\\Users\\shaik akhil\\anaconda3\\lib\\site-packages\\pandas\\core\\generic.py:6245: SettingWithCopyWarning: \n",
      "A value is trying to be set on a copy of a slice from a DataFrame\n",
      "\n",
      "See the caveats in the documentation: https://pandas.pydata.org/pandas-docs/stable/user_guide/indexing.html#returning-a-view-versus-a-copy\n",
      "  self._update_inplace(new_data)\n",
      "C:\\Users\\shaik akhil\\anaconda3\\lib\\site-packages\\pandas\\core\\generic.py:6245: SettingWithCopyWarning: \n",
      "A value is trying to be set on a copy of a slice from a DataFrame\n",
      "\n",
      "See the caveats in the documentation: https://pandas.pydata.org/pandas-docs/stable/user_guide/indexing.html#returning-a-view-versus-a-copy\n",
      "  self._update_inplace(new_data)\n",
      "C:\\Users\\shaik akhil\\anaconda3\\lib\\site-packages\\pandas\\core\\generic.py:6245: SettingWithCopyWarning: \n",
      "A value is trying to be set on a copy of a slice from a DataFrame\n",
      "\n",
      "See the caveats in the documentation: https://pandas.pydata.org/pandas-docs/stable/user_guide/indexing.html#returning-a-view-versus-a-copy\n",
      "  self._update_inplace(new_data)\n"
     ]
    },
    {
     "data": {
      "image/png": "[encoded data removed]",
      "text/plain": [
       "<Figure size 432x288 with 1 Axes>"
      ]
     },
     "metadata": {
      "needs_background": "light"
     },
     "output_type": "display_data"
    }
   ],
   "source": [
    "import math\n",
    "%matplotlib inline\n",
    "mean_mbl=[]\n",
    "mean_mal=[]\n",
    "g=df4.groupby('Station Name')\n",
    "\n",
    "#Filling the NaN values with mean of values w.r.t to row number \n",
    "#If Nan value row in Before lockDown,fill with mean of values of Before lockDown, same as for Nan values in after lockDown\n",
    "for i,j in g:    \n",
    "    mbl=math.floor(j['Current AQI value'].iloc[0:7:].mean())\n",
    "    j['Current AQI value'][0:7].fillna(mbl,inplace=True)\n",
    "    mean_mbl.append(mbl)\n",
    "    mal=math.floor(j['Current AQI value'].iloc[7::].mean())\n",
    "    j['Current AQI value'].fillna(mal,inplace=True)\n",
    "    mean_mal.append(mal)\n",
    "    \n",
    "    #plotting scatterplots\n",
    "    l=list(j['Current AQI value'])\n",
    "    Days=list(range(16,32))\n",
    "    Days.extend(list(range(1,10)))\n",
    "    xpos=np.arange((len(l)))\n",
    "    plt.xticks(xpos,Days)\n",
    "    plt.plot(xpos,l,linewidth=2.5,label=i)\n",
    "    plt.xlabel('Days')\n",
    "    plt.ylabel('AQI')\n",
    "    plt.title('Delhi\\'s 3 major polluted cities data ')\n",
    "    plt.legend(loc='best')\n",
    "    plt.grid()\n",
    "  "
   ]
  },
  {
   "cell_type": "code",
   "execution_count": 53,
   "metadata": {},
   "outputs": [
    {
     "name": "stdout",
     "output_type": "stream",
     "text": [
      "[239, 226, 220]\n"
     ]
    }
   ],
   "source": [
    "print(mean_mbl)"
   ]
  },
  {
   "cell_type": "code",
   "execution_count": 54,
   "metadata": {},
   "outputs": [
    {
     "name": "stdout",
     "output_type": "stream",
     "text": [
      "[86, 111, 101]\n"
     ]
    }
   ],
   "source": [
    "print(mean_mal)"
   ]
  },
  {
   "cell_type": "code",
   "execution_count": 55,
   "metadata": {},
   "outputs": [
    {
     "data": {
      "text/plain": [
       "<matplotlib.legend.Legend at 0x1179397cac8>"
      ]
     },
     "execution_count": 55,
     "metadata": {},
     "output_type": "execute_result"
    },
    {
     "data": {
      "image/png": "[encoded data removed]",
      "text/plain": [
       "<Figure size 432x288 with 1 Axes>"
      ]
     },
     "metadata": {
      "needs_background": "light"
     },
     "output_type": "display_data"
    }
   ],
   "source": [
    "#Visualizing the AQI before and after LockDown\n",
    "stations=['Anand_Vihar','Bhavana','DTU']\n",
    "xpos=np.arange(len(stations))\n",
    "plt.xticks(xpos,stations)\n",
    "plt.bar(xpos-0.2,mean_mbl,label='Before lock down')\n",
    "plt.bar(xpos+0.2,mean_mal,label='after lock down')\n",
    "plt.xlabel('Stations')\n",
    "plt.ylabel('AQI')\n",
    "plt.legend()"
   ]
  },
  {
   "cell_type": "code",
   "execution_count": 56,
   "metadata": {},
   "outputs": [
    {
     "data": {
      "text/plain": [
       "[64.01673640167364, 50.88495575221239, 54.090909090909086]"
      ]
     },
     "execution_count": 56,
     "metadata": {},
     "output_type": "execute_result"
    }
   ],
   "source": [
    "#Pecentage Decrease in Air pollution of three stations\n",
    "percentage_changes=[]\n",
    "for i in range(len(stations)):\n",
    "    q=mean_mal[i]/mean_mbl[i]*100\n",
    "    percentage_changes.append(100-q)\n",
    "percentage_changes"
   ]
  },
  {
   "cell_type": "code",
   "execution_count": 57,
   "metadata": {},
   "outputs": [
    {
     "data": {
      "text/plain": [
       "56.33086708159837"
      ]
     },
     "execution_count": 57,
     "metadata": {},
     "output_type": "execute_result"
    }
   ],
   "source": [
    "#Average Percentage change in AQI\n",
    "Average_change=sum(percentage_changes)/3\n",
    "Average_change"
   ]
  }
 ],
 "metadata": {
  "kernelspec": {
   "display_name": "Python 3",
   "language": "python",
   "name": "python3"
  },
  "language_info": {
   "codemirror_mode": {
    "name": "ipython",
    "version": 3
   },
   "file_extension": ".py",
   "mimetype": "text/x-python",
   "name": "python",
   "nbconvert_exporter": "python",
   "pygments_lexer": "ipython3",
   "version": "3.7.6"
  }
 },
 "nbformat": 4,
 "nbformat_minor": 4
}
